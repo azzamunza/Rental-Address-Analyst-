# Address Analytics Generator - Google Maps Edition
# A Google Colab notebook that creates an HTML report with real-time maps and travel analytics
# Uses only Google Maps API - No AI required!

# Install required packages
!pip install requests -q

import json
import requests
from datetime import datetime
from IPython.display import HTML, display

# ============================================================================
# CONFIGURATION
# ============================================================================

print("🏠 Address Analytics Generator")
print("=" * 60)
print("Powered by Google Maps API - Real-time data only!")
print("=" * 60)

GOOGLE_MAPS_API_KEY = input("\nEnter your Google Maps API key: ")

# ============================================================================
# DATA COLLECTION
# ============================================================================

print("\n📍 Enter Home Address")
print("-" * 60)
home_address = input("Home address: ")

print("\n🎯 Enter Destination Addresses")
print("-" * 60)
print("Format: Label | Address | Trips per week")
print("Example: Work | 123 Main St, Sydney NSW | 10")
print("Enter 'done' when finished\n")

destinations = []
while True:
    entry = input("Destination: ")
    if entry.lower() == 'done':
        break
    try:
        parts = [p.strip() for p in entry.split('|')]
        if len(parts) == 3:
            destinations.append({
                "label": parts[0],
                "address": parts[1],
                "trips_per_week": int(parts[2])
            })
            print(f"✓ Added: {parts[0]}")
        else:
            print("❌ Invalid format. Use: Label | Address | Trips per week")
    except:
        print("❌ Error parsing entry. Please try again.")

# Rental and fuel cost settings
print("\n💰 Cost Settings")
print("-" * 60)
weekly_rent = input("Weekly rental price ($): ")
WEEKLY_RENT = float(weekly_rent) if weekly_rent else 0.0

print("\n⛽ Fuel Cost Settings (press Enter for defaults)")
print("-" * 60)
fuel_consumption = input("Fuel consumption (L/100km) [default: 10]: ") or "10"
fuel_price = input("Fuel price per liter ($) [default: 2.00]: ") or "2.00"

FUEL_CONSUMPTION = float(fuel_consumption)
FUEL_PRICE = float(fuel_price)

# ============================================================================
# GOOGLE MAPS API FUNCTIONS
# ============================================================================

def get_static_map_url(address, width=600, height=400, zoom=15):
    """Generate Google Static Maps URL"""
    base_url = "https://maps.googleapis.com/maps/api/staticmap"
    params = {
        "center": address,
        "zoom": zoom,
        "size": f"{width}x{height}",
        "maptype": "roadmap",
        "markers": f"color:red|{address}",
        "key": GOOGLE_MAPS_API_KEY
    }
    param_str = "&".join([f"{k}={requests.utils.quote(str(v))}" for k, v in params.items()])
    return f"{base_url}?{param_str}"

def get_street_view_url(address, width=600, height=400):
    """Generate Google Street View URL"""
    base_url = "https://maps.googleapis.com/maps/api/streetview"
    params = {
        "location": address,
        "size": f"{width}x{height}",
        "key": GOOGLE_MAPS_API_KEY
    }
    param_str = "&".join([f"{k}={requests.utils.quote(str(v))}" for k, v in params.items()])
    return f"{base_url}?{param_str}"

def get_route_map_url(origin, destination, width=600, height=400):
    """Generate route map between two locations"""
    base_url = "https://maps.googleapis.com/maps/api/staticmap"
    url = f"{base_url}?size={width}x{height}&maptype=roadmap"
    url += f"&markers=color:green|label:A|{requests.utils.quote(origin)}"
    url += f"&markers=color:red|label:B|{requests.utils.quote(destination)}"
    url += f"&key={GOOGLE_MAPS_API_KEY}"
    return url

def get_directions_data(origin, destination):
    """Get directions data from Google Maps Directions API"""
    base_url = "https://maps.googleapis.com/maps/api/directions/json"
    
    results = {}
    
    # Get current traffic data
    params = {
        "origin": origin,
        "destination": destination,
        "mode": "driving",
        "departure_time": "now",
        "key": GOOGLE_MAPS_API_KEY
    }
    
    try:
        response = requests.get(base_url, params=params)
        if response.status_code == 200:
            data = response.json()
            if data.get('routes') and len(data['routes']) > 0:
                route = data['routes'][0]['legs'][0]
                
                # Get distance
                results['distance'] = route['distance']['text']
                results['distance_value'] = route['distance']['value']
                
                # Get duration in traffic (peak time estimate)
                if 'duration_in_traffic' in route:
                    results['duration_peak'] = route['duration_in_traffic']['text']
                    results['duration_peak_value'] = route['duration_in_traffic']['value']
                else:
                    results['duration_peak'] = route['duration']['text']
                    results['duration_peak_value'] = route['duration']['value']
                
                # Estimate non-peak as 80% of peak time
                results['duration_nonpeak_value'] = int(results['duration_peak_value'] * 0.8)
                results['duration_nonpeak'] = f"{results['duration_nonpeak_value'] // 60} mins"
            else:
                print(f"⚠️  No route found for {destination}")
                results = {'distance': 'N/A', 'duration_peak': 'N/A', 'duration_nonpeak': 'N/A'}
    except Exception as e:
        print(f"❌ Error getting directions for {destination}: {str(e)}")
        results = {'distance': 'N/A', 'duration_peak': 'N/A', 'duration_nonpeak': 'N/A'}
    
    return results

def find_nearby_places(address, place_type):
    """Find nearby places of a specific type"""
    try:
        # First geocode the address
        geocode_url = "https://maps.googleapis.com/maps/api/geocode/json"
        geocode_params = {
            "address": address,
            "key": GOOGLE_MAPS_API_KEY
        }
        
        geocode_response = requests.get(geocode_url, params=geocode_params)
        if geocode_response.status_code != 200:
            return None
        
        geocode_data = geocode_response.json()
        if not geocode_data.get('results'):
            return None
        
        location = geocode_data['results'][0]['geometry']['location']
        
        # Now search for nearby places
        places_url = "https://maps.googleapis.com/maps/api/place/nearbysearch/json"
        places_params = {
            "location": f"{location['lat']},{location['lng']}",
            "radius": 5000,  # 5km radius
            "keyword": place_type,
            "key": GOOGLE_MAPS_API_KEY
        }
        
        places_response = requests.get(places_url, params=places_params)
        if places_response.status_code == 200:
            places_data = places_response.json()
            if places_data.get('results') and len(places_data['results']) > 0:
                # Return the closest place
                return places_data['results'][0]
    except Exception as e:
        print(f"⚠️  Error finding {place_type}: {str(e)}")
    
    return None

# ============================================================================
# COLLECT MAP AND ROUTE DATA
# ============================================================================

print("\n🗺️  Collecting map and route data...")
print("-" * 60)

# Home address data
print(f"Processing home address: {home_address}")
home_data = {
    "address": home_address,
    "street_view_url": get_street_view_url(home_address),
    "map_url": get_static_map_url(home_address)
}

# Destination data
destination_data = []
print("\nProcessing destinations...")
for dest in destinations:
    print(f"  → {dest['label']}...")
    route_data = get_directions_data(home_address, dest['address'])
    
    # Calculate fuel costs
    if route_data.get('distance_value'):
        distance_km = route_data['distance_value'] / 1000
        fuel_per_trip = (distance_km / 100) * FUEL_CONSUMPTION  # litres
        cost_per_trip = fuel_per_trip * FUEL_PRICE  # dollars
        weekly_cost = cost_per_trip * 2 * dest['trips_per_week']  # round trip
        route_data['weekly_fuel_cost'] = f"${weekly_cost:.2f}"
    else:
        route_data['weekly_fuel_cost'] = 'N/A'
    
    destination_data.append({
        "label": dest['label'],
        "address": dest['address'],
        "trips_per_week": dest['trips_per_week'],
        "route_map_url": get_route_map_url(home_address, dest['address']),
        **route_data
    })

# Nearby amenities
print("\nFinding nearby amenities...")
amenity_types = [
    ("Coles", "🛒"),
    ("Woolworths", "🛒"),
    ("BigW", "🏬"),
    ("Target", "🎯"),
    ("Kmart", "🏬"),
    ("Shopping Centre", "🏬"),
    ("Cinema", "🎬"),
    ("Bunnings", "🔨"),
    ("Private Primary School", "🏫"),
    ("Private Secondary School", "🏫"),
    ("Public Primary School", "🏫"),
    ("Public Secondary School", "🏫"),
    ("University", "🎓"),
    ("College", "🎓")
]

amenities_data = []
for amenity_type, emoji in amenity_types:
    print(f"  → Searching for {amenity_type}...")
    place = find_nearby_places(home_address, amenity_type)
    if place:
        place_address = place.get('vicinity', '')
        place_name = place.get('name', amenity_type)
        route_data = get_directions_data(home_address, place_address)
        
        amenities_data.append({
            "name": place_name,
            "type": amenity_type,
            "emoji": emoji,
            "address": place_address,
            "route_map_url": get_route_map_url(home_address, place_address, 300, 200),
            **route_data
        })
        print(f"    ✓ Found: {place_name}")
    else:
        print(f"    ⚠️  Not found within 5km")

# ============================================================================
# HTML TEMPLATE WITH DATA INJECTION
# ============================================================================

def generate_html_report(home_data, destination_data, amenities_data, weekly_rent, fuel_consumption, fuel_price):
    """Generate HTML report with injected data"""
    
    # Calculate total weekly travel costs
    total_weekly_travel_cost = 0
    for dest in destination_data:
        if dest.get('distance_value'):
            distance_km = dest['distance_value'] / 1000
            fuel_per_trip = (distance_km / 100) * fuel_consumption
            cost_per_trip = fuel_per_trip * fuel_price
            weekly_cost = cost_per_trip * 2 * dest['trips_per_week']
            total_weekly_travel_cost += weekly_cost
    
    total_weekly_cost = weekly_rent + total_weekly_travel_cost
    
    # Generate destination rows
    destination_rows = ""
    if len(destination_data) == 0:
        destination_rows = """
        <tr>
            <td colspan="3" style="text-align: center; padding: 40px; color: #7f8c8d;">
                No destinations added. Add destinations to see travel analytics.
            </td>
        </tr>
        """
    else:
        for dest in destination_data:
            destination_rows += f"""
        <tr>
            <td>
                <div class="label-badge">{dest['label']}</div>
                <div style="color: #7f8c8d; font-size: 0.9em;">{dest['address']}</div>
                <div style="margin-top: 10px; color: #7f8c8d; font-size: 0.9em;">
                    <strong>Trips per week:</strong> {dest['trips_per_week']}
                </div>
            </td>
            <td>
                <img src="{dest['route_map_url']}" alt="Route Map" class="route-map" style="max-width: 300px;">
            </td>
            <td>
                <div class="info-grid">
                    <div class="info-item">
                        <div class="info-label">Distance</div>
                        <div class="info-value">{dest.get('distance', 'N/A')}</div>
                    </div>
                    <div class="info-item">
                        <div class="info-label">Peak Travel</div>
                        <div class="info-value">{dest.get('duration_peak', 'N/A')}</div>
                    </div>
                    <div class="info-item">
                        <div class="info-label">Peak Return</div>
                        <div class="info-value">{dest.get('duration_peak', 'N/A')}</div>
                    </div>
                    <div class="info-item">
                        <div class="info-label">Non-Peak Travel</div>
                        <div class="info-value">{dest.get('duration_nonpeak', 'N/A')}</div>
                    </div>
                    <div class="info-item">
                        <div class="info-label">Non-Peak Return</div>
                        <div class="info-value">{dest.get('duration_nonpeak', 'N/A')}</div>
                    </div>
                </div>
                <div class="cost-highlight">
                    💰 Estimated Weekly Fuel Cost: {dest.get('weekly_fuel_cost', 'N/A')}
                </div>
            </td>
        </tr>
        """
    
    # Generate amenity cards
    amenity_cards = ""
    if len(amenities_data) == 0:
        amenity_cards = """
        <div style="grid-column: 1/-1; text-align: center; padding: 40px; color: #7f8c8d;">
            No amenities found within 5km radius.
        </div>
        """
    else:
        for amenity in amenities_data:
            amenity_cards += f"""
        <div class="amenity-card">
            <div class="amenity-header">{amenity['emoji']} {amenity['name']}</div>
            <img src="{amenity['route_map_url']}" alt="Route to {amenity['name']}" class="amenity-map">
            <div class="amenity-info">
                <table class="amenity-data-table">
                    <tr>
                        <td class="data-label">Distance</td>
                        <td class="data-value">{amenity.get('distance', 'N/A')}</td>
                    </tr>
                    <tr>
                        <td class="data-label">Non-Peak Travel</td>
                        <td class="data-value">{amenity.get('duration_nonpeak', 'N/A')}</td>
                    </tr>
                    <tr>
                        <td class="data-label">Non-Peak Return</td>
                        <td class="data-value">{amenity.get('duration_nonpeak', 'N/A')}</td>
                    </tr>
                    <tr>
                        <td class="data-label">Peak Travel</td>
                        <td class="data-value">{amenity.get('duration_peak', 'N/A')}</td>
                    </tr>
                    <tr>
                        <td class="data-label">Peak Return</td>
                        <td class="data-value">{amenity.get('duration_peak', 'N/A')}</td>
                    </tr>
                </table>
            </div>
        </div>
        """
    
    # Full HTML template
    html = f"""<!DOCTYPE html>
<html lang="en">
<head>
    <meta charset="UTF-8">
    <meta name="viewport" content="width=device-width, initial-scale=1.0">
    <title>Property Address Analytics Report</title>
    <style>
        * {{
            margin: 0;
            padding: 0;
            box-sizing: border-box;
        }}

        body {{
            font-family: 'Segoe UI', Tahoma, Geneva, Verdana, sans-serif;
            background: linear-gradient(135deg, #667eea 0%, #764ba2 100%);
            padding: 20px;
            color: #333;
        }}

        .container {{
            max-width: 1400px;
            margin: 0 auto;
            background: white;
            border-radius: 20px;
            box-shadow: 0 20px 60px rgba(0,0,0,0.3);
            overflow: hidden;
        }}

        .header {{
            background: linear-gradient(135deg, #2c3e50 0%, #3498db 100%);
            color: white;
            padding: 40px;
            text-align: center;
        }}

        .header h1 {{
            font-size: 2.5em;
            margin-bottom: 10px;
            font-weight: 600;
        }}

        .header p {{
            font-size: 1.1em;
            opacity: 0.9;
        }}

        .content {{
            padding: 40px;
        }}

        .section {{
            margin-bottom: 50px;
        }}

        .section-title {{
            font-size: 1.8em;
            color: #2c3e50;
            margin-bottom: 25px;
            padding-bottom: 15px;
            border-bottom: 3px solid #3498db;
            display: flex;
            align-items: center;
            gap: 15px;
        }}

        .section-title::before {{
            content: '';
            width: 8px;
            height: 40px;
            background: linear-gradient(135deg, #3498db, #2ecc71);
            border-radius: 4px;
        }}

        .home-section {{
            background: linear-gradient(135deg, #f5f7fa 0%, #c3cfe2 100%);
            padding: 30px;
            border-radius: 15px;
            margin-bottom: 30px;
        }}

        .home-address {{
            font-size: 1.4em;
            color: #2c3e50;
            margin-bottom: 25px;
            font-weight: 600;
        }}

        .home-images {{
            display: grid;
            grid-template-columns: 1fr 1fr;
            gap: 20px;
            margin-top: 20px;
        }}

        .image-container {{
            position: relative;
            border-radius: 12px;
            overflow: hidden;
            box-shadow: 0 10px 30px rgba(0,0,0,0.2);
            transition: transform 0.3s ease;
        }}

        .image-container:hover {{
            transform: translateY(-5px);
        }}

        .image-container img {{
            width: 100%;
            height: auto;
            display: block;
        }}

        .image-label {{
            position: absolute;
            bottom: 0;
            left: 0;
            right: 0;
            background: rgba(0,0,0,0.7);
            color: white;
            padding: 12px;
            font-weight: 600;
            text-align: center;
        }}

        .destinations-table {{
            width: 100%;
            border-collapse: collapse;
            background: white;
            border-radius: 12px;
            overflow: hidden;
            box-shadow: 0 5px 20px rgba(0,0,0,0.1);
        }}

        .destinations-table thead {{
            background: linear-gradient(135deg, #3498db, #2ecc71);
            color: white;
        }}

        .destinations-table th {{
            padding: 18px;
            text-align: left;
            font-weight: 600;
            font-size: 0.95em;
            letter-spacing: 0.5px;
        }}

        .destinations-table td {{
            padding: 20px 18px;
            border-bottom: 1px solid #ecf0f1;
        }}

        .destinations-table tr:last-child td {{
            border-bottom: none;
        }}

        .destinations-table tbody tr {{
            transition: background 0.2s ease;
        }}

        .destinations-table tbody tr:hover {{
            background: #f8f9fa;
        }}

        .route-map {{
            border-radius: 8px;
            box-shadow: 0 3px 10px rgba(0,0,0,0.15);
            max-width: 100%;
            height: auto;
        }}

        .label-badge {{
            display: inline-block;
            background: linear-gradient(135deg, #667eea, #764ba2);
            color: white;
            padding: 8px 16px;
            border-radius: 20px;
            font-weight: 600;
            font-size: 0.9em;
            margin-bottom: 10px;
        }}

        .info-grid {{
            display: grid;
            grid-template-columns: repeat(2, 1fr);
            gap: 10px;
            margin-top: 10px;
        }}

        .info-item {{
            display: flex;
            flex-direction: column;
        }}

        .info-label {{
            font-size: 0.85em;
            color: #7f8c8d;
            font-weight: 600;
            margin-bottom: 4px;
            text-transform: uppercase;
            letter-spacing: 0.5px;
        }}

        .info-value {{
            font-size: 1.1em;
            color: #2c3e50;
            font-weight: 600;
        }}

        .cost-highlight {{
            background: linear-gradient(135deg, #f093fb 0%, #f5576c 100%);
            color: white;
            padding: 10px 15px;
            border-radius: 8px;
            margin-top: 10px;
            text-align: center;
            font-weight: 600;
        }}

        .amenities-grid {{
            display: grid;
            grid-template-columns: repeat(auto-fill, minmax(320px, 1fr));
            gap: 25px;
            margin-top: 30px;
        }}

        .amenity-card {{
            background: white;
            border-radius: 15px;
            overflow: hidden;
            box-shadow: 0 5px 20px rgba(0,0,0,0.1);
            transition: all 0.3s ease;
            border: 2px solid transparent;
        }}

        .amenity-card:hover {{
            transform: translateY(-8px);
            box-shadow: 0 15px 40px rgba(0,0,0,0.2);
            border-color: #3498db;
        }}

        .amenity-header {{
            background: linear-gradient(135deg, #2ecc71, #27ae60);
            color: white;
            padding: 15px;
            text-align: center;
            font-weight: 600;
            font-size: 1.1em;
        }}

        .amenity-map {{
            width: 100%;
            height: 200px;
            object-fit: cover;
        }}

        .amenity-info {{
            padding: 20px;
            background: #f8f9fa;
        }}

        .amenity-data-table {{
            width: 100%;
            margin-top: 10px;
        }}

        .amenity-data-table td {{
            padding: 8px 5px;
            border-bottom: 1px solid #dee2e6;
        }}

        .amenity-data-table tr:last-child td {{
            border-bottom: none;
        }}

        .data-label {{
            font-weight: 600;
            color: #495057;
            font-size: 0.85em;
            width: 50%;
        }}

        .data-value {{
            color: #2c3e50;
            font-weight: 600;
            text-align: right;
        }}

        .footer {{
            background: #2c3e50;
            color: white;
            padding: 30px;
            text-align: center;
        }}

        .footer p {{
            margin: 5px 0;
            opacity: 0.8;
        }}

        @media (max-width: 768px) {{
            .home-images {{
                grid-template-columns: 1fr;
            }}

            .destinations-table {{
                display: block;
                overflow-x: auto;
            }}

            .amenities-grid {{
                grid-template-columns: 1fr;
            }}

            .header h1 {{
                font-size: 1.8em;
            }}

            .section-title {{
                font-size: 1.4em;
            }}

            .content {{
                padding: 20px;
            }}

            .cost-summary-grid {{
                grid-template-columns: 1fr;
            }}
        }}
    </style>
</head>
<body>
    <div class="container">
        <div class="header">
            <h1>🏠 Property Address Analytics Report</h1>
            <p>Comprehensive location analysis with travel times and nearby amenities</p>
        </div>

        <div class="content">
            <div class="section">
                <div class="section-title">Home Address</div>
                <div class="home-section">
                    <div class="home-address">📍 {home_data['address']}</div>
                    <div class="home-images">
                        <div class="image-container">
                            <img src="{home_data['street_view_url']}" alt="Street View">
                            <div class="image-label">Street View</div>
                        </div>
                        <div class="image-container">
                            <img src="{home_data['map_url']}" alt="Map View">
                            <div class="image-label">Map View</div>
                        </div>
                    </div>
                </div>
            </div>

            <div class="section">
                <div class="section-title">Weekly Cost Summary</div>
                <div class="cost-summary-section">
                    <div class="cost-summary-grid">
                        <div class="cost-summary-card">
                            <div class="cost-summary-icon">🏠</div>
                            <div class="cost-summary-label">Weekly Rent</div>
                            <div class="cost-summary-value">${weekly_rent:.2f}</div>
                        </div>
                        <div class="cost-summary-card">
                            <div class="cost-summary-icon">⛽</div>
                            <div class="cost-summary-label">Weekly Travel Costs</div>
                            <div class="cost-summary-value">${total_weekly_travel_cost:.2f}</div>
                            <div class="cost-summary-detail">Based on {len(destination_data)} destination(s)</div>
                        </div>
                        <div class="cost-summary-card total-cost">
                            <div class="cost-summary-icon">💰</div>
                            <div class="cost-summary-label">Total Weekly Cost</div>
                            <div class="cost-summary-value total">${total_weekly_cost:.2f}</div>
                            <div class="cost-summary-detail">Rent + Travel</div>
                        </div>
                    </div>
                    <div class="fuel-settings">
                        <p><strong>Fuel Settings:</strong> {fuel_consumption}L/100km @ ${fuel_price:.2f}/L</p>
                    </div>
                </div>
            </div>

            <div class="section">
                <div class="section-title">Frequent Destinations</div>
                <table class="destinations-table">
                    <thead>
                        <tr>
                            <th>Destination</th>
                            <th>Route Map</th>
                            <th>Travel Information</th>
                        </tr>
                    </thead>
                    <tbody>
                        {destination_rows}
                    </tbody>
                </table>
            </div>

            <div class="section">
                <div class="section-title">Nearby Amenities</div>
                <div class="amenities-grid">
                    {amenity_cards}
                </div>
            </div>
        </div>

        <div class="footer">
            <p><strong>Report Generated:</strong> {datetime.now().strftime("%B %d, %Y at %I:%M %p")}</p>
            <p>Powered by Google Maps API - Real-time Data</p>
            <p style="margin-top: 15px; font-size: 0.9em;">📊 All travel times are based on current traffic conditions</p>
        </div>
    </div>
</body>
</html>"""
    
    return html

# ============================================================================
# GENERATE AND DISPLAY REPORT
# ============================================================================

print("\n🎨 Generating HTML report...")
print("-" * 60)

html_output = generate_html_report(home_data, destination_data, amenities_data, WEEKLY_RENT, FUEL_CONSUMPTION, FUEL_PRICE)

# Save to file
output_filename = f"address_analytics_{datetime.now().strftime('%Y%m%d_%H%M%S')}.html"
with open(output_filename, 'w', encoding='utf-8') as f:
    f.write(html_output)

print(f"\n✅ Report generated successfully!")
print(f"📄 Saved as: {output_filename}")
print(f"\n📊 Report Statistics:")
print(f"   • Home address: {home_address}")
print(f"   • Weekly rent: ${WEEKLY_RENT:.2f}")
print(f"   • Destinations analyzed: {len(destination_data)}")
print(f"   • Amenities found: {len(amenities_data)}")

# Calculate and show total costs
total_weekly_travel_cost = 0
for dest in destination_data:
    if dest.get('distance_value'):
        distance_km = dest['distance_value'] / 1000
        fuel_per_trip = (distance_km / 100) * FUEL_CONSUMPTION
        cost_per_trip = fuel_per_trip * FUEL_PRICE
        weekly_cost = cost_per_trip * 2 * dest['trips_per_week']
        total_weekly_travel_cost += weekly_cost

total_weekly_cost = WEEKLY_RENT + total_weekly_travel_cost
print(f"   • Weekly travel costs: ${total_weekly_travel_cost:.2f}")
print(f"   • Total weekly cost: ${total_weekly_cost:.2f}")
print("\n" + "=" * 60)

# Display in Colab
display(HTML(html_output))

# Provide download link
from google.colab import files
print("\n⬇️  Downloading report...")
files.download(output_filename)
